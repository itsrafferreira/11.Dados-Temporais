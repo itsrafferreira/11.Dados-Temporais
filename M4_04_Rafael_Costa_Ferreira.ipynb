{
 "cells": [
  {
   "cell_type": "markdown",
   "metadata": {},
   "source": [
    "# Exercícios Módulo 4. Unidade 4. Dados temporais (Soluções)\n",
    "\n",
    "Considerações a ter em conta:\n",
    "\n",
    "* Guardar este documento com o seguinte formato para entrega: __M4_04_nome_apelido1_apelido2__\n",
    "* Fazer os exercícios com as ferramentas vistas nas sessões. \n",
    "* Comentar o código\n",
    "* Utilizar nomes de variáveis apropriados, se vai guardar uma nota, chamar a essa variável nota, não n ou x"
   ]
  },
  {
   "cell_type": "markdown",
   "metadata": {},
   "source": [
    "**1)  Dadas as duas seguintes datas, que correspondem às datas de nascimento de dois irmãos (na zona horária de Europa/Lisbon), indica qual é a diferença entre eles em dias, horas, minutos e segundos**"
   ]
  },
  {
   "cell_type": "code",
   "execution_count": 5,
   "metadata": {},
   "outputs": [
    {
     "name": "stdout",
     "output_type": "stream",
     "text": [
      "Diferença em dias: 2440 dias\n",
      "Diferença em horas: 0 horas\n",
      "Diferença em minutos: 35 minutos\n",
      "Diferença em segundos: 0 segundos\n"
     ]
    }
   ],
   "source": [
    "from datetime import datetime\n",
    "\n",
    "# Definir as datas de nascimento dos dois irmãos\n",
    "filho1 = datetime(1985, 10, 20, 17, 55)\n",
    "filho2 = datetime(1992, 6, 25, 18, 30)\n",
    "\n",
    "# Calcular a diferença entre as duas datas\n",
    "diferenca = filho2 - filho1\n",
    "\n",
    "# Exibir a diferença em dias, horas, minutos e segundos\n",
    "dias = diferenca.days\n",
    "horas, segundos = divmod(diferenca.seconds, 3600)\n",
    "minutos, segundos = divmod(segundos, 60)\n",
    "\n",
    "# Mostrar os resultados\n",
    "print(f\"Diferença em dias: {dias} dias\")\n",
    "print(f\"Diferença em horas: {horas} horas\")\n",
    "print(f\"Diferença em minutos: {minutos} minutos\")\n",
    "print(f\"Diferença em segundos: {segundos} segundos\")"
   ]
  },
  {
   "cell_type": "markdown",
   "metadata": {},
   "source": [
    "**2) Criar uma função que se chame formato_data() que receba por parâmetro uma data do tipo datetime e nos devolva o seguinte formato: “20 de abril de 2020”.**\n",
    "\n",
    "**Em muitas ocasiões os nossos sistemas estão configurados de forma pré-determinada em inglês, e não se pode mudar a localidade para português. Portanto, temos que aprender a selecionar e mostrar os meses em português apesar do nosso sistema se encontrarem inglês ou noutro idioma.** \n",
    "\n",
    "**Criar uma tupla para armazenar a listagem de meses em português para poder selecionar o nome do mês adequado em função a uma data que lhe proporcionemos à função. Fica proibido de utilizar métodos como locale, setlocale ou strftime.**\n",
    "\n",
    "**Experimentar a função enviando-lhe uma data pré-definida por si e a data atual (now)**"
   ]
  },
  {
   "cell_type": "code",
   "execution_count": 5,
   "metadata": {},
   "outputs": [
    {
     "name": "stdout",
     "output_type": "stream",
     "text": [
      "Data pré-definida: 22 de outubro de 2022\n",
      "Data atual: 25 de novembro de 2023\n"
     ]
    }
   ],
   "source": [
    "from datetime import datetime\n",
    "\n",
    "def formato_data(data):\n",
    "    # Lista de meses em português\n",
    "    meses_pt = (\"janeiro\", \"fevereiro\", \"março\", \"abril\", \"maio\", \"junho\", \"julho\", \"agosto\", \"setembro\", \"outubro\", \"novembro\", \"dezembro\")\n",
    "\n",
    "    # Obter o dia, mês e ano da data\n",
    "    dia = data.day\n",
    "    mes = data.month\n",
    "    ano = data.year\n",
    "\n",
    "    # Formatar a data no estilo desejado\n",
    "    data_formatada = f\"{dia} de {meses_pt[mes - 1]} de {ano}\"\n",
    "\n",
    "    return data_formatada\n",
    "\n",
    "# Testar a função com uma data pré-definida\n",
    "data_predefinida = datetime(2022, 10, 22)\n",
    "resultado_predefinido = formato_data(data_predefinida)\n",
    "print(\"Data pré-definida:\", resultado_predefinido)\n",
    "\n",
    "# Testar a função com a data atual (now)\n",
    "data_atual = datetime.now()\n",
    "resultado_atual = formato_data(data_atual)\n",
    "print(\"Data atual:\", resultado_atual)"
   ]
  },
  {
   "cell_type": "markdown",
   "metadata": {},
   "source": [
    "**3) Utilizando strftime, formate a data atual para que saia com o seguinte formato:**\n",
    "* Dia: 20\n",
    "* Mês: 04\n",
    "* Ano: 2020\n",
    "* Hora: 16\n",
    "* Minutos: 19\n",
    "* Segundos (e milissegundos): 08.879057"
   ]
  },
  {
   "cell_type": "code",
   "execution_count": 6,
   "metadata": {
    "scrolled": true
   },
   "outputs": [
    {
     "name": "stdout",
     "output_type": "stream",
     "text": [
      "\n",
      "Dia: 30\n",
      "Mês: 11\n",
      "Ano: 2023\n",
      "Hora: 21\n",
      "Minutos: 52\n",
      "Segundos (e milissegundos): 16.546053\n",
      "\n"
     ]
    }
   ],
   "source": [
    "from datetime import datetime\n",
    "\n",
    "# Obter a data e hora atual\n",
    "data_atual = datetime.now()\n",
    "\n",
    "# Formatar a data com o formato \n",
    "formato_personalizado = \"\"\"\n",
    "Dia: %d\n",
    "Mês: %m\n",
    "Ano: %Y\n",
    "Hora: %H\n",
    "Minutos: %M\n",
    "Segundos (e milissegundos): %S.%f\n",
    "\"\"\"\n",
    "\n",
    "data_formatada = data_atual.strftime(formato_personalizado)\n",
    "\n",
    "# Imprimir o resultado\n",
    "print(data_formatada)"
   ]
  },
  {
   "cell_type": "code",
   "execution_count": null,
   "metadata": {},
   "outputs": [],
   "source": []
  },
  {
   "cell_type": "code",
   "execution_count": null,
   "metadata": {},
   "outputs": [],
   "source": []
  }
 ],
 "metadata": {
  "anaconda-cloud": {},
  "kernelspec": {
   "display_name": "Python 3 (ipykernel)",
   "language": "python",
   "name": "python3"
  },
  "language_info": {
   "codemirror_mode": {
    "name": "ipython",
    "version": 3
   },
   "file_extension": ".py",
   "mimetype": "text/x-python",
   "name": "python",
   "nbconvert_exporter": "python",
   "pygments_lexer": "ipython3",
   "version": "3.11.5"
  }
 },
 "nbformat": 4,
 "nbformat_minor": 1
}
